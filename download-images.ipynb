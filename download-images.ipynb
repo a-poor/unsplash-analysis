{
 "cells": [
  {
   "cell_type": "code",
   "execution_count": 1,
   "metadata": {},
   "outputs": [],
   "source": [
    "import io\n",
    "import requests\n",
    "\n",
    "import numpy as np\n",
    "import pandas as pd\n",
    "\n",
    "import boto3"
   ]
  },
  {
   "cell_type": "code",
   "execution_count": 2,
   "metadata": {},
   "outputs": [],
   "source": [
    "from PIL import Image"
   ]
  },
  {
   "cell_type": "code",
   "execution_count": 3,
   "metadata": {},
   "outputs": [],
   "source": [
    "from tqdm.notebook import tqdm"
   ]
  },
  {
   "cell_type": "code",
   "execution_count": null,
   "metadata": {},
   "outputs": [],
   "source": [
    "s3 = boto3.client(\"s3\")"
   ]
  },
  {
   "cell_type": "code",
   "execution_count": null,
   "metadata": {},
   "outputs": [],
   "source": [
    "df = pd.read_csv(\"data/photos.tsv000\",sep=\"\\t\")\n",
    "df.head()"
   ]
  },
  {
   "cell_type": "code",
   "execution_count": null,
   "metadata": {},
   "outputs": [],
   "source": [
    "# for img_id, url in tqdm(df[[\"photo_id\",\"photo_image_url\"]].values,desc=\"Images Downloaded\"):\n",
    "#     resp = requests.get(url)\n",
    "#     b = io.BytesIO(resp.content)\n",
    "#     b.seek(0)\n",
    "#     s3.upload_fileobj(b,\"ap-unsplash-images\",f\"{img_id}.jpg\")"
   ]
  },
  {
   "cell_type": "code",
   "execution_count": null,
   "metadata": {},
   "outputs": [],
   "source": [
    "def get_crop(img):\n",
    "    w, h = img.size\n",
    "    if w > h:\n",
    "        d = (w - h) / 2\n",
    "        return (0,-d,w,h+d)\n",
    "    else:\n",
    "        d = (h - w) / 2\n",
    "        return (-d,0,w+d,h)\n",
    "    \n",
    "def transform_img(img,new_size=(960,960)):\n",
    "    return img.crop(get_crop(img)).resize(new_size)\n",
    "\n",
    "def drop_alpha(img):\n",
    "    return Image.fromarray(np.array(img)[:,:,:3])\n",
    "\n",
    "def load_image(url: str):\n",
    "    resp = requests.get(url)\n",
    "    b = io.BytesIO(resp.content)\n",
    "    return Image.open(b)\n",
    "\n",
    "def upload_image(img, img_id: str):\n",
    "    with io.BytesIO() as b:\n",
    "        img.save(b,format=\"JPEG\")\n",
    "        b.seek(0)\n",
    "        s3.upload_fileobj(b,\"ap-unsplash-images\",f\"reshaped/{img_id}.jpg\")\n",
    "        \n",
    "def process_image(url,img_id=None):\n",
    "    if img_id is None:\n",
    "        url, img_id = url\n",
    "    img = load_image(url)\n",
    "    img = drop_alpha(img)\n",
    "    img = transform_img(img)\n",
    "    upload_image(img, img_id)"
   ]
  },
  {
   "cell_type": "code",
   "execution_count": null,
   "metadata": {},
   "outputs": [],
   "source": [
    "from multiprocessing import Pool"
   ]
  },
  {
   "cell_type": "code",
   "execution_count": null,
   "metadata": {},
   "outputs": [],
   "source": [
    "with Pool() as p:\n",
    "    p.map(\n",
    "        process_image,\n",
    "        df[[\"photo_image_url\",\"photo_id\"]].values\n",
    "    )"
   ]
  },
  {
   "cell_type": "code",
   "execution_count": null,
   "metadata": {},
   "outputs": [],
   "source": []
  },
  {
   "cell_type": "code",
   "execution_count": null,
   "metadata": {},
   "outputs": [],
   "source": []
  }
 ],
 "metadata": {
  "kernelspec": {
   "display_name": "conda_python3",
   "language": "python",
   "name": "conda_python3"
  },
  "language_info": {
   "codemirror_mode": {
    "name": "ipython",
    "version": 3
   },
   "file_extension": ".py",
   "mimetype": "text/x-python",
   "name": "python",
   "nbconvert_exporter": "python",
   "pygments_lexer": "ipython3",
   "version": "3.6.10"
  }
 },
 "nbformat": 4,
 "nbformat_minor": 4
}
